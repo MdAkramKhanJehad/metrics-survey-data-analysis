{
  "nbformat": 4,
  "nbformat_minor": 0,
  "metadata": {
    "colab": {
      "name": "Encoding.ipynb",
      "provenance": [],
      "collapsed_sections": []
    },
    "kernelspec": {
      "name": "python3",
      "display_name": "Python 3"
    },
    "language_info": {
      "name": "python"
    }
  },
  "cells": [
    {
      "cell_type": "code",
      "metadata": {
        "id": "LZtEB8Elwta9",
        "colab": {
          "base_uri": "https://localhost:8080/"
        },
        "outputId": "f700153b-5ebd-4197-bea0-991826c80d24"
      },
      "source": [
        "import pandas as pd\n",
        "dataset = pd.read_csv(\"10A_survey_cleaned_data.csv\",na_values=' ')\n",
        "print(dataset.shape)\n",
        "#dataset.drop(columns=['Unnamed: 0'],inplace=True)\n",
        "list(dataset.columns.values)"
      ],
      "execution_count": 28,
      "outputs": [
        {
          "output_type": "stream",
          "name": "stdout",
          "text": [
            "(44, 17)\n"
          ]
        },
        {
          "output_type": "execute_result",
          "data": {
            "text/plain": [
              "['Designation',\n",
              " 'Age',\n",
              " 'Gender',\n",
              " 'Requirement Stability',\n",
              " 'Requirement Change Frequency',\n",
              " 'Deadline Crossing Tendency',\n",
              " 'Deadline Crossing Frequency',\n",
              " 'Design Change',\n",
              " 'Adapting New Technology',\n",
              " 'Testability',\n",
              " 'Change Flexibility',\n",
              " 'Task Satisfaction',\n",
              " 'Fault Occurrence Frequency',\n",
              " 'Budget Extension',\n",
              " 'Efficiency',\n",
              " 'Reusability',\n",
              " 'Portability']"
            ]
          },
          "metadata": {},
          "execution_count": 28
        }
      ]
    },
    {
      "cell_type": "code",
      "metadata": {
        "colab": {
          "base_uri": "https://localhost:8080/"
        },
        "id": "oCC2IcK-zLhG",
        "outputId": "e44ff8e1-a00a-478d-ba07-c338cb116d38"
      },
      "source": [
        "dataset['Designation'].value_counts()"
      ],
      "execution_count": 29,
      "outputs": [
        {
          "output_type": "execute_result",
          "data": {
            "text/plain": [
              "Software Engineer                  7\n",
              "Student                            5\n",
              "Associate Software Engineer        4\n",
              "Senior Software Engineer           3\n",
              "Intern                             2\n",
              "Canada                             1\n",
              "Senior Software Engineer           1\n",
              "Blockchain Developer               1\n",
              "Graduate Teaching Assistant        1\n",
              "MSc Student                        1\n",
              "SE                                 1\n",
              "Software Engineer graduate         1\n",
              "Associate Software Engineer        1\n",
              "Software Engineer I                1\n",
              "Employe                            1\n",
              "Lecturer, CSE, BRACU               1\n",
              "Freelancer Developer               1\n",
              "Associate software engineer        1\n",
              "()                                 1\n",
              "PHD student                        1\n",
              "Assistant programmer               1\n",
              "Junior Software Engineer           1\n",
              "Sr. Software Engineer              1\n",
              "Ex software engineer (Lecturer)    1\n",
              "Software engineer                  1\n",
              "Student                            1\n",
              "Graduate Student                   1\n",
              "Lecturer                           1\n",
              "Name: Designation, dtype: int64"
            ]
          },
          "metadata": {},
          "execution_count": 29
        }
      ]
    },
    {
      "cell_type": "code",
      "metadata": {
        "colab": {
          "base_uri": "https://localhost:8080/"
        },
        "id": "pQ0zCLC50L1B",
        "outputId": "ffefcb06-f7d6-42b8-a8c6-144923733bc9"
      },
      "source": [
        "dataset['Designation']=dataset['Designation'].replace(\"Software Engineer\",\"Software Engineer\")\n",
        "dataset['Designation']=dataset['Designation'].replace(\"Student\",\"Intern\")\n",
        "dataset['Designation']=dataset['Designation'].replace(\"Student \",\"Intern\")\n",
        "dataset['Designation']=dataset['Designation'].replace(\"Associate Software Engineer\",\"Associate Software Engineer\")\n",
        "dataset['Designation']=dataset['Designation'].replace(\"Senior Software Engineer\",\"Senior Software Engineer\")\n",
        "dataset['Designation']=dataset['Designation'].replace(\"Junior Software Engineer\",\"Associate Software Engineer\")\n",
        "dataset['Designation']=dataset['Designation'].replace(\"Ex software engineer (Lecturer)\",\"Associate Software Engineer\")\n",
        "dataset['Designation']=dataset['Designation'].replace(\"Software Engineer I\",\"Software Engineer\")\n",
        "dataset['Designation']=dataset['Designation'].replace(\"Employe\",\"Software Engineer\")\n",
        "dataset['Designation']=dataset['Designation'].replace(\"Graduate Student\",\"Intern\")\n",
        "dataset['Designation']=dataset['Designation'].replace(\"Blockchain Developer\",\"Software Engineer\")\n",
        "dataset['Designation']=dataset['Designation'].replace(\"Lecturer\",\"Associate Software Engineer\")\n",
        "dataset['Designation']=dataset['Designation'].replace(\"SE\",\"Software Engineer\")\n",
        "dataset['Designation']=dataset['Designation'].replace(\"Software Engineer graduate\",\"Junior Software Engineer\")\n",
        "dataset['Designation']=dataset['Designation'].replace(\"Lecturer, CSE, BRACU\",\"Associate Software Engineer\")\n",
        "dataset['Designation']=dataset['Designation'].replace(\"Associate Software Engineer \",\"Associate Software Engineer\")\n",
        "dataset['Designation']=dataset['Designation'].replace(\"Associate software engineer\",\"Associate Software Engineer\")\n",
        "dataset['Designation']=dataset['Designation'].replace(\"Software engineer\",\"Software Engineer\")\n",
        "dataset['Designation']=dataset['Designation'].replace(\"Assistant programmer\",\"Assistant Programmer\")\n",
        "dataset['Designation']=dataset['Designation'].replace(\"Sr. Software Engineer\",\"Senior Software Engineer\")\n",
        "dataset['Designation']=dataset['Designation'].replace(\"MSc Student\",\"Intern\")\n",
        "dataset['Designation']=dataset['Designation'].replace(\"Senior Software Engineer \",\"Senior Software Engineer\")\n",
        "dataset['Designation']=dataset['Designation'].replace(\"Graduate Teaching Assistant\",\"Associate Software Engineer\")\n",
        "dataset['Designation']=dataset['Designation'].replace(\"PHD student\",\"Junior Software Engineer\")\n",
        "dataset['Designation']=dataset['Designation'].replace(\"Canada\",\"Software Engineer\")\n",
        "dataset['Designation']=dataset['Designation'].replace(\"Freelancer Developer\",\"Software Engineer\")\n",
        "dataset['Designation']=dataset['Designation'].replace(\"()\",\"Junior Software Engineer\")\n",
        "dataset['Designation'].value_counts()"
      ],
      "execution_count": 30,
      "outputs": [
        {
          "output_type": "execute_result",
          "data": {
            "text/plain": [
              "Software Engineer              14\n",
              "Associate Software Engineer    11\n",
              "Intern                         10\n",
              "Senior Software Engineer        5\n",
              "Junior Software Engineer        3\n",
              "Assistant Programmer            1\n",
              "Name: Designation, dtype: int64"
            ]
          },
          "metadata": {},
          "execution_count": 30
        }
      ]
    },
    {
      "cell_type": "code",
      "metadata": {
        "colab": {
          "base_uri": "https://localhost:8080/"
        },
        "id": "Oa7yDGUN6EhH",
        "outputId": "df4a90a3-872a-4da2-b284-af34e47ad6aa"
      },
      "source": [
        "dataset['Age'].value_counts()"
      ],
      "execution_count": 31,
      "outputs": [
        {
          "output_type": "execute_result",
          "data": {
            "text/plain": [
              "23    10\n",
              "25     7\n",
              "24     6\n",
              "28     5\n",
              "29     4\n",
              "30     3\n",
              "27     3\n",
              "26     3\n",
              "22     3\n",
              "Name: Age, dtype: int64"
            ]
          },
          "metadata": {},
          "execution_count": 31
        }
      ]
    },
    {
      "cell_type": "code",
      "metadata": {
        "colab": {
          "base_uri": "https://localhost:8080/"
        },
        "id": "V3rDnv6N6Lqf",
        "outputId": "3c5e083a-5261-4dde-fb05-bf81cf70546c"
      },
      "source": [
        "dataset['Gender'].value_counts()"
      ],
      "execution_count": 32,
      "outputs": [
        {
          "output_type": "execute_result",
          "data": {
            "text/plain": [
              "Male      32\n",
              "Female    12\n",
              "Name: Gender, dtype: int64"
            ]
          },
          "metadata": {},
          "execution_count": 32
        }
      ]
    },
    {
      "cell_type": "code",
      "metadata": {
        "colab": {
          "base_uri": "https://localhost:8080/"
        },
        "id": "2dsaJb5u6RMJ",
        "outputId": "20fc177b-02c2-4b75-a182-e5c487c0f4a2"
      },
      "source": [
        "dataset['Gender'] = dataset['Gender'].map({'Male': 0, 'Female':1})\n",
        "dataset['Gender']"
      ],
      "execution_count": 33,
      "outputs": [
        {
          "output_type": "execute_result",
          "data": {
            "text/plain": [
              "0     0\n",
              "1     0\n",
              "2     1\n",
              "3     0\n",
              "4     0\n",
              "5     0\n",
              "6     1\n",
              "7     0\n",
              "8     0\n",
              "9     0\n",
              "10    0\n",
              "11    1\n",
              "12    0\n",
              "13    1\n",
              "14    1\n",
              "15    0\n",
              "16    0\n",
              "17    1\n",
              "18    1\n",
              "19    0\n",
              "20    0\n",
              "21    1\n",
              "22    1\n",
              "23    0\n",
              "24    0\n",
              "25    0\n",
              "26    0\n",
              "27    0\n",
              "28    0\n",
              "29    1\n",
              "30    0\n",
              "31    0\n",
              "32    0\n",
              "33    0\n",
              "34    0\n",
              "35    1\n",
              "36    0\n",
              "37    0\n",
              "38    0\n",
              "39    0\n",
              "40    0\n",
              "41    0\n",
              "42    0\n",
              "43    1\n",
              "Name: Gender, dtype: int64"
            ]
          },
          "metadata": {},
          "execution_count": 33
        }
      ]
    },
    {
      "cell_type": "code",
      "metadata": {
        "colab": {
          "base_uri": "https://localhost:8080/"
        },
        "id": "VmvWirLV6bWu",
        "outputId": "5cfd3ff9-d1c3-4383-c7c7-01fe26e8d0b4"
      },
      "source": [
        "dataset['Deadline Crossing Tendency'].value_counts(dropna=False)"
      ],
      "execution_count": 34,
      "outputs": [
        {
          "output_type": "execute_result",
          "data": {
            "text/plain": [
              "A Team           28\n",
              "NaN              10\n",
              "An Individual     6\n",
              "Name: Deadline Crossing Tendency, dtype: int64"
            ]
          },
          "metadata": {},
          "execution_count": 34
        }
      ]
    },
    {
      "cell_type": "code",
      "metadata": {
        "id": "mY1HcZ0o_pm1"
      },
      "source": [
        "df = pd.DataFrame(dataset)\n",
        "df['Deadline Crossing Tendency'] = df['Deadline Crossing Tendency'].notnull().astype(\"int\")\n"
      ],
      "execution_count": 36,
      "outputs": []
    },
    {
      "cell_type": "code",
      "source": [
        "dataset['Deadline Crossing Frequency'] = dataset['Deadline Crossing Frequency'].map({'Never': 1, 'Seldom': 2, \n",
        "                                                                   'Sometimes':3, 'Often':4, \n",
        "                                                                   'Always':5})\n",
        "dataset['Deadline Crossing Frequency'].value_counts()\n"
      ],
      "metadata": {
        "colab": {
          "base_uri": "https://localhost:8080/"
        },
        "id": "H3IQc8_Gc51b",
        "outputId": "94cc7c60-f0cb-4e4c-be81-696f1986b8c6"
      },
      "execution_count": 37,
      "outputs": [
        {
          "output_type": "execute_result",
          "data": {
            "text/plain": [
              "2    21\n",
              "3    11\n",
              "1     6\n",
              "5     3\n",
              "4     3\n",
              "Name: Deadline Crossing Frequency, dtype: int64"
            ]
          },
          "metadata": {},
          "execution_count": 37
        }
      ]
    },
    {
      "cell_type": "code",
      "metadata": {
        "id": "dQoRTOE2DTbA"
      },
      "source": [
        "dataset['Requirement Stability'].value_counts()\n",
        "dataset['Requirement Stability'] = dataset['Requirement Stability'].map({'Never': 1, 'Seldom': 2, \n",
        "                                                                   'Sometimes':3, 'Often':4, \n",
        "                                                                   'Always':5})\n"
      ],
      "execution_count": 38,
      "outputs": []
    },
    {
      "cell_type": "code",
      "metadata": {
        "colab": {
          "base_uri": "https://localhost:8080/"
        },
        "id": "9f9cxV_iExFC",
        "outputId": "61620610-457e-4009-a634-c840364f6060"
      },
      "source": [
        "dataset['Requirement Change Frequency'] = dataset['Requirement Change Frequency'].map({'0': 1, '1-2': 2, \n",
        "                                                                   '3-4':3, '5-6':4, \n",
        "                                                                   'More than 6':5})\n",
        "dataset['Requirement Change Frequency'].value_counts()"
      ],
      "execution_count": 39,
      "outputs": [
        {
          "output_type": "execute_result",
          "data": {
            "text/plain": [
              "2    16\n",
              "3    11\n",
              "5    10\n",
              "4     7\n",
              "Name: Requirement Change Frequency, dtype: int64"
            ]
          },
          "metadata": {},
          "execution_count": 39
        }
      ]
    },
    {
      "cell_type": "code",
      "metadata": {
        "colab": {
          "base_uri": "https://localhost:8080/"
        },
        "id": "OhvirT5BGSwT",
        "outputId": "655429a4-3910-40be-f088-188fd05b42a5"
      },
      "source": [
        "dataset['Design Change'] = dataset['Design Change'].map({'Strongly Disagree': 1, 'Disagree': 2, \n",
        "                                                                   'Neutral':3, 'Agree':4, \n",
        "                                                                   'Strongly Agree':5})\n",
        "dataset['Design Change'].value_counts()"
      ],
      "execution_count": 40,
      "outputs": [
        {
          "output_type": "execute_result",
          "data": {
            "text/plain": [
              "4    23\n",
              "3    10\n",
              "5     7\n",
              "2     4\n",
              "Name: Design Change, dtype: int64"
            ]
          },
          "metadata": {},
          "execution_count": 40
        }
      ]
    },
    {
      "cell_type": "code",
      "metadata": {
        "colab": {
          "base_uri": "https://localhost:8080/"
        },
        "id": "u5Ql5RjzGteV",
        "outputId": "8917e4b0-0b87-430c-a1d9-d45ec8475b7c"
      },
      "source": [
        "dataset['Adapting New Technology'] = dataset['Adapting New Technology'].map({'Never': 1, 'Seldom': 2, \n",
        "                                                                   'Sometimes':3, 'Often':4, \n",
        "                                                                   'Always':5})\n",
        "dataset['Adapting New Technology'].value_counts()"
      ],
      "execution_count": 41,
      "outputs": [
        {
          "output_type": "execute_result",
          "data": {
            "text/plain": [
              "5    17\n",
              "4    11\n",
              "3    10\n",
              "2     5\n",
              "1     1\n",
              "Name: Adapting New Technology, dtype: int64"
            ]
          },
          "metadata": {},
          "execution_count": 41
        }
      ]
    },
    {
      "cell_type": "code",
      "metadata": {
        "colab": {
          "base_uri": "https://localhost:8080/"
        },
        "id": "b3__YKpnG7y2",
        "outputId": "44f31f10-469a-44b4-e49b-030217ba44e9"
      },
      "source": [
        "dataset['Testability'] = dataset['Testability'].map({'Never': 1, 'Seldom': 2, \n",
        "                                                                   'Sometimes':3, 'Often':4, \n",
        "                                                                   'Always':5})\n",
        "dataset['Testability'].value_counts()"
      ],
      "execution_count": 42,
      "outputs": [
        {
          "output_type": "execute_result",
          "data": {
            "text/plain": [
              "3    21\n",
              "4    10\n",
              "2     8\n",
              "5     3\n",
              "1     2\n",
              "Name: Testability, dtype: int64"
            ]
          },
          "metadata": {},
          "execution_count": 42
        }
      ]
    },
    {
      "cell_type": "code",
      "metadata": {
        "colab": {
          "base_uri": "https://localhost:8080/"
        },
        "id": "WQF2wvehHCPP",
        "outputId": "a2f7c80e-831f-4690-8aa6-4e298eb9104c"
      },
      "source": [
        "dataset['Change Flexibility'] = dataset['Change Flexibility'].map({'Yes': 1, 'No': 0, })\n",
        "dataset['Change Flexibility'].value_counts()"
      ],
      "execution_count": 43,
      "outputs": [
        {
          "output_type": "execute_result",
          "data": {
            "text/plain": [
              "1    40\n",
              "0     4\n",
              "Name: Change Flexibility, dtype: int64"
            ]
          },
          "metadata": {},
          "execution_count": 43
        }
      ]
    },
    {
      "cell_type": "code",
      "metadata": {
        "colab": {
          "base_uri": "https://localhost:8080/"
        },
        "id": "DFgS6kb_HT-3",
        "outputId": "3d88affa-ef4d-47db-ba54-7fcd8b2113d2"
      },
      "source": [
        "dataset['Task Satisfaction'] = dataset['Task Satisfaction'].map({'Very Dissatisfied': 1, 'Dissatisfied': 2, \n",
        "                                                                   'Neutral':3, 'Very Satisfied':4, \n",
        "                                                                   'Satisfied':5})\n",
        "dataset['Task Satisfaction'].value_counts()"
      ],
      "execution_count": 44,
      "outputs": [
        {
          "output_type": "execute_result",
          "data": {
            "text/plain": [
              "5    35\n",
              "3     8\n",
              "4     1\n",
              "Name: Task Satisfaction, dtype: int64"
            ]
          },
          "metadata": {},
          "execution_count": 44
        }
      ]
    },
    {
      "cell_type": "code",
      "metadata": {
        "colab": {
          "base_uri": "https://localhost:8080/"
        },
        "id": "ySMSVu7XH6Hi",
        "outputId": "a9c3449a-b44b-4770-eef6-f759ec2fcd7a"
      },
      "source": [
        "dataset['Fault Occurrence Frequency'] = dataset['Fault Occurrence Frequency'].map({'Never': 1, 'Seldom': 2, \n",
        "                                                                   'Sometimes':3, 'Often':4, \n",
        "                                                                   'Always':5})\n",
        "dataset['Fault Occurrence Frequency'].value_counts()"
      ],
      "execution_count": 45,
      "outputs": [
        {
          "output_type": "execute_result",
          "data": {
            "text/plain": [
              "3    27\n",
              "4    12\n",
              "5     3\n",
              "2     2\n",
              "Name: Fault Occurrence Frequency, dtype: int64"
            ]
          },
          "metadata": {},
          "execution_count": 45
        }
      ]
    },
    {
      "cell_type": "code",
      "metadata": {
        "colab": {
          "base_uri": "https://localhost:8080/"
        },
        "id": "rLex-j6CIPd5",
        "outputId": "cd469d42-e4b1-4e53-fe73-eb4e1b98ee57"
      },
      "source": [
        "dataset['Budget Extension'] = dataset['Budget Extension'].map({'Never': 1, 'Seldom': 2, \n",
        "                                                                   'Sometimes':3, 'Often':4, \n",
        "                                                                   'Always':5})\n",
        "dataset['Budget Extension'].value_counts()"
      ],
      "execution_count": 46,
      "outputs": [
        {
          "output_type": "execute_result",
          "data": {
            "text/plain": [
              "3    20\n",
              "4    17\n",
              "5     6\n",
              "2     1\n",
              "Name: Budget Extension, dtype: int64"
            ]
          },
          "metadata": {},
          "execution_count": 46
        }
      ]
    },
    {
      "cell_type": "code",
      "metadata": {
        "colab": {
          "base_uri": "https://localhost:8080/"
        },
        "id": "DK8QlrFaIbij",
        "outputId": "ec9e4cb5-2958-4507-b2d9-2f3352f9b9a5"
      },
      "source": [
        "dataset['Efficiency'] = dataset['Efficiency'].map({'Strongly disagree': 1, 'Disagree': 2, \n",
        "                                                                   'Neutral':3, 'Agree':4, \n",
        "                                                                   'Strongly agree':5})\n",
        "dataset['Efficiency'].value_counts()\n"
      ],
      "execution_count": 47,
      "outputs": [
        {
          "output_type": "execute_result",
          "data": {
            "text/plain": [
              "3    14\n",
              "4    13\n",
              "2    11\n",
              "1     4\n",
              "5     2\n",
              "Name: Efficiency, dtype: int64"
            ]
          },
          "metadata": {},
          "execution_count": 47
        }
      ]
    },
    {
      "cell_type": "code",
      "metadata": {
        "colab": {
          "base_uri": "https://localhost:8080/"
        },
        "id": "nmr5WcdqIj41",
        "outputId": "f54ed9b4-5403-4ff6-e294-60c8bbd11bd5"
      },
      "source": [
        "dataset['Reusability'] = dataset['Reusability'].map({'Never': 1, 'Seldom': 2, \n",
        "                                                                   'Sometimes':3, 'Often':4, \n",
        "                                                                   'Always':5})\n",
        "dataset['Reusability'].value_counts()"
      ],
      "execution_count": 48,
      "outputs": [
        {
          "output_type": "execute_result",
          "data": {
            "text/plain": [
              "3    20\n",
              "2    12\n",
              "4    10\n",
              "5     1\n",
              "1     1\n",
              "Name: Reusability, dtype: int64"
            ]
          },
          "metadata": {},
          "execution_count": 48
        }
      ]
    },
    {
      "cell_type": "code",
      "metadata": {
        "colab": {
          "base_uri": "https://localhost:8080/"
        },
        "id": "RlsX0dpNIwnV",
        "outputId": "7470f74c-d41a-40fa-ab21-6c3c57af4cfe"
      },
      "source": [
        "dataset['Portability'] = dataset['Portability'].map({'Never': 1, 'Seldom': 2, \n",
        "                                                                   'Sometimes':3, 'Often':4, \n",
        "                                                                   'Always':5})\n",
        "dataset['Portability'].value_counts()"
      ],
      "execution_count": 49,
      "outputs": [
        {
          "output_type": "execute_result",
          "data": {
            "text/plain": [
              "4    12\n",
              "3    10\n",
              "2    10\n",
              "1    10\n",
              "5     2\n",
              "Name: Portability, dtype: int64"
            ]
          },
          "metadata": {},
          "execution_count": 49
        }
      ]
    },
    {
      "cell_type": "code",
      "metadata": {
        "id": "FghIxiZzKL5z"
      },
      "source": [
        "dataset.to_csv(\"EncodedData.csv\")"
      ],
      "execution_count": 50,
      "outputs": []
    }
  ]
}