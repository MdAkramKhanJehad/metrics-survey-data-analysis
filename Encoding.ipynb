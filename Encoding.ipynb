{
  "nbformat": 4,
  "nbformat_minor": 0,
  "metadata": {
    "colab": {
      "name": "Encoding.ipynb",
      "provenance": [],
      "collapsed_sections": []
    },
    "kernelspec": {
      "name": "python3",
      "display_name": "Python 3"
    },
    "language_info": {
      "name": "python"
    }
  },
  "cells": [
    {
      "cell_type": "code",
      "metadata": {
        "id": "LZtEB8Elwta9",
        "colab": {
          "base_uri": "https://localhost:8080/"
        },
        "outputId": "95e069a1-db99-424d-cdd4-ccb1f2dbaecf"
      },
      "source": [
        "import pandas as pd\n",
        "dataset = pd.read_csv(\"10A_survey_cleaned_data.csv\",na_values=' ')\n",
        "print(dataset.shape)\n",
        "#dataset.drop(columns=['Unnamed: 0'],inplace=True)\n",
        "list(dataset.columns.values)"
      ],
      "execution_count": 51,
      "outputs": [
        {
          "output_type": "stream",
          "name": "stdout",
          "text": [
            "(44, 17)\n"
          ]
        },
        {
          "output_type": "execute_result",
          "data": {
            "text/plain": [
              "['Designation',\n",
              " 'Age',\n",
              " 'Gender',\n",
              " 'Requirement Stability',\n",
              " 'Requirement Change Frequency',\n",
              " 'Deadline Crossing Tendency',\n",
              " 'Deadline Crossing Frequency',\n",
              " 'Design Change',\n",
              " 'Adapting New Technology',\n",
              " 'Testability',\n",
              " 'Change Flexibility',\n",
              " 'Task Satisfaction',\n",
              " 'Fault Occurrence Frequency',\n",
              " 'Budget Extension',\n",
              " 'Efficiency',\n",
              " 'Reusability',\n",
              " 'Portability']"
            ]
          },
          "metadata": {},
          "execution_count": 51
        }
      ]
    },
    {
      "cell_type": "code",
      "metadata": {
        "colab": {
          "base_uri": "https://localhost:8080/"
        },
        "id": "oCC2IcK-zLhG",
        "outputId": "51339785-df97-483f-9229-fd8d9eda6e0d"
      },
      "source": [
        "dataset['Designation'].value_counts()"
      ],
      "execution_count": 52,
      "outputs": [
        {
          "output_type": "execute_result",
          "data": {
            "text/plain": [
              "Software Engineer                  7\n",
              "Student                            5\n",
              "Associate Software Engineer        4\n",
              "Senior Software Engineer           3\n",
              "Intern                             2\n",
              "Canada                             1\n",
              "Senior Software Engineer           1\n",
              "Blockchain Developer               1\n",
              "Graduate Teaching Assistant        1\n",
              "MSc Student                        1\n",
              "SE                                 1\n",
              "Software Engineer graduate         1\n",
              "Associate Software Engineer        1\n",
              "Software Engineer I                1\n",
              "Employe                            1\n",
              "Lecturer, CSE, BRACU               1\n",
              "Freelancer Developer               1\n",
              "Associate software engineer        1\n",
              "()                                 1\n",
              "PHD student                        1\n",
              "Assistant programmer               1\n",
              "Junior Software Engineer           1\n",
              "Sr. Software Engineer              1\n",
              "Ex software engineer (Lecturer)    1\n",
              "Software engineer                  1\n",
              "Student                            1\n",
              "Graduate Student                   1\n",
              "Lecturer                           1\n",
              "Name: Designation, dtype: int64"
            ]
          },
          "metadata": {},
          "execution_count": 52
        }
      ]
    },
    {
      "cell_type": "code",
      "metadata": {
        "colab": {
          "base_uri": "https://localhost:8080/"
        },
        "id": "pQ0zCLC50L1B",
        "outputId": "20f04080-20a1-426d-d28e-e0c9f3f1bbff"
      },
      "source": [
        "dataset['Designation']=dataset['Designation'].replace(\"Software Engineer\",\"Software Engineer\")\n",
        "dataset['Designation']=dataset['Designation'].replace(\"Student\",\"Intern\")\n",
        "dataset['Designation']=dataset['Designation'].replace(\"Student \",\"Intern\")\n",
        "dataset['Designation']=dataset['Designation'].replace(\"Associate Software Engineer\",\"Associate Software Engineer\")\n",
        "dataset['Designation']=dataset['Designation'].replace(\"Senior Software Engineer\",\"Senior Software Engineer\")\n",
        "dataset['Designation']=dataset['Designation'].replace(\"Junior Software Engineer\",\"Associate Software Engineer\")\n",
        "dataset['Designation']=dataset['Designation'].replace(\"Ex software engineer (Lecturer)\",\"Associate Software Engineer\")\n",
        "dataset['Designation']=dataset['Designation'].replace(\"Software Engineer I\",\"Software Engineer\")\n",
        "dataset['Designation']=dataset['Designation'].replace(\"Employe\",\"Software Engineer\")\n",
        "dataset['Designation']=dataset['Designation'].replace(\"Graduate Student\",\"Intern\")\n",
        "dataset['Designation']=dataset['Designation'].replace(\"Blockchain Developer\",\"Software Engineer\")\n",
        "dataset['Designation']=dataset['Designation'].replace(\"Lecturer\",\"Associate Software Engineer\")\n",
        "dataset['Designation']=dataset['Designation'].replace(\"SE\",\"Software Engineer\")\n",
        "dataset['Designation']=dataset['Designation'].replace(\"Software Engineer graduate\",\"Junior Software Engineer\")\n",
        "dataset['Designation']=dataset['Designation'].replace(\"Lecturer, CSE, BRACU\",\"Associate Software Engineer\")\n",
        "dataset['Designation']=dataset['Designation'].replace(\"Associate Software Engineer \",\"Associate Software Engineer\")\n",
        "dataset['Designation']=dataset['Designation'].replace(\"Associate software engineer\",\"Associate Software Engineer\")\n",
        "dataset['Designation']=dataset['Designation'].replace(\"Software engineer\",\"Software Engineer\")\n",
        "dataset['Designation']=dataset['Designation'].replace(\"Assistant programmer\",\"Assistant Programmer\")\n",
        "dataset['Designation']=dataset['Designation'].replace(\"Sr. Software Engineer\",\"Senior Software Engineer\")\n",
        "dataset['Designation']=dataset['Designation'].replace(\"MSc Student\",\"Intern\")\n",
        "dataset['Designation']=dataset['Designation'].replace(\"Senior Software Engineer \",\"Senior Software Engineer\")\n",
        "dataset['Designation']=dataset['Designation'].replace(\"Graduate Teaching Assistant\",\"Associate Software Engineer\")\n",
        "dataset['Designation']=dataset['Designation'].replace(\"PHD student\",\"Junior Software Engineer\")\n",
        "dataset['Designation']=dataset['Designation'].replace(\"Canada\",\"Software Engineer\")\n",
        "dataset['Designation']=dataset['Designation'].replace(\"Freelancer Developer\",\"Software Engineer\")\n",
        "dataset['Designation']=dataset['Designation'].replace(\"()\",\"Junior Software Engineer\")\n",
        "dataset['Designation'].value_counts()"
      ],
      "execution_count": 53,
      "outputs": [
        {
          "output_type": "execute_result",
          "data": {
            "text/plain": [
              "Software Engineer              14\n",
              "Associate Software Engineer    11\n",
              "Intern                         10\n",
              "Senior Software Engineer        5\n",
              "Junior Software Engineer        3\n",
              "Assistant Programmer            1\n",
              "Name: Designation, dtype: int64"
            ]
          },
          "metadata": {},
          "execution_count": 53
        }
      ]
    },
    {
      "cell_type": "code",
      "metadata": {
        "colab": {
          "base_uri": "https://localhost:8080/"
        },
        "id": "Oa7yDGUN6EhH",
        "outputId": "6ae6fb82-de8a-4daf-f9e8-b1ce079a02e3"
      },
      "source": [
        "dataset['Age'].value_counts()"
      ],
      "execution_count": 54,
      "outputs": [
        {
          "output_type": "execute_result",
          "data": {
            "text/plain": [
              "23    10\n",
              "25     7\n",
              "24     6\n",
              "28     5\n",
              "29     4\n",
              "30     3\n",
              "27     3\n",
              "26     3\n",
              "22     3\n",
              "Name: Age, dtype: int64"
            ]
          },
          "metadata": {},
          "execution_count": 54
        }
      ]
    },
    {
      "cell_type": "code",
      "metadata": {
        "colab": {
          "base_uri": "https://localhost:8080/"
        },
        "id": "V3rDnv6N6Lqf",
        "outputId": "43b64ce8-0c48-4dce-e866-e5a2fd915104"
      },
      "source": [
        "dataset['Gender'].value_counts()"
      ],
      "execution_count": 55,
      "outputs": [
        {
          "output_type": "execute_result",
          "data": {
            "text/plain": [
              "Male      32\n",
              "Female    12\n",
              "Name: Gender, dtype: int64"
            ]
          },
          "metadata": {},
          "execution_count": 55
        }
      ]
    },
    {
      "cell_type": "code",
      "metadata": {
        "colab": {
          "base_uri": "https://localhost:8080/"
        },
        "id": "2dsaJb5u6RMJ",
        "outputId": "fdcb5491-6f5b-4458-d0ca-d6b8a84cbd7b"
      },
      "source": [
        "dataset['Gender'] = dataset['Gender'].map({'Male': 0, 'Female':1})\n",
        "dataset['Gender']"
      ],
      "execution_count": 56,
      "outputs": [
        {
          "output_type": "execute_result",
          "data": {
            "text/plain": [
              "0     0\n",
              "1     0\n",
              "2     1\n",
              "3     0\n",
              "4     0\n",
              "5     0\n",
              "6     1\n",
              "7     0\n",
              "8     0\n",
              "9     0\n",
              "10    0\n",
              "11    1\n",
              "12    0\n",
              "13    1\n",
              "14    1\n",
              "15    0\n",
              "16    0\n",
              "17    1\n",
              "18    1\n",
              "19    0\n",
              "20    0\n",
              "21    1\n",
              "22    1\n",
              "23    0\n",
              "24    0\n",
              "25    0\n",
              "26    0\n",
              "27    0\n",
              "28    0\n",
              "29    1\n",
              "30    0\n",
              "31    0\n",
              "32    0\n",
              "33    0\n",
              "34    0\n",
              "35    1\n",
              "36    0\n",
              "37    0\n",
              "38    0\n",
              "39    0\n",
              "40    0\n",
              "41    0\n",
              "42    0\n",
              "43    1\n",
              "Name: Gender, dtype: int64"
            ]
          },
          "metadata": {},
          "execution_count": 56
        }
      ]
    },
    {
      "cell_type": "code",
      "metadata": {
        "colab": {
          "base_uri": "https://localhost:8080/"
        },
        "id": "VmvWirLV6bWu",
        "outputId": "3a76d4e8-049f-4649-f8bd-ae73ef2d8e32"
      },
      "source": [
        "dataset['Deadline Crossing Tendency'].value_counts(dropna=False)"
      ],
      "execution_count": 57,
      "outputs": [
        {
          "output_type": "execute_result",
          "data": {
            "text/plain": [
              "A Team           28\n",
              "NaN              10\n",
              "An Individual     6\n",
              "Name: Deadline Crossing Tendency, dtype: int64"
            ]
          },
          "metadata": {},
          "execution_count": 57
        }
      ]
    },
    {
      "cell_type": "code",
      "metadata": {
        "id": "mY1HcZ0o_pm1"
      },
      "source": [
        "df = pd.DataFrame(dataset)\n",
        "df['Deadline Crossing Tendency'] = df['Deadline Crossing Tendency'].notnull().astype(\"int\")\n"
      ],
      "execution_count": 58,
      "outputs": []
    },
    {
      "cell_type": "code",
      "source": [
        "dataset['Deadline Crossing Frequency'] = dataset['Deadline Crossing Frequency'].map({'Never': 1, 'Seldom': 2, \n",
        "                                                                   'Sometimes':3, 'Often':4, \n",
        "                                                                   'Always':5})\n",
        "dataset['Deadline Crossing Frequency'].value_counts()\n"
      ],
      "metadata": {
        "colab": {
          "base_uri": "https://localhost:8080/"
        },
        "id": "H3IQc8_Gc51b",
        "outputId": "698ad644-52b7-4469-98fe-9485a3ba15a7"
      },
      "execution_count": 59,
      "outputs": [
        {
          "output_type": "execute_result",
          "data": {
            "text/plain": [
              "2    21\n",
              "3    11\n",
              "1     6\n",
              "5     3\n",
              "4     3\n",
              "Name: Deadline Crossing Frequency, dtype: int64"
            ]
          },
          "metadata": {},
          "execution_count": 59
        }
      ]
    },
    {
      "cell_type": "code",
      "metadata": {
        "id": "dQoRTOE2DTbA"
      },
      "source": [
        "dataset['Requirement Stability'].value_counts()\n",
        "dataset['Requirement Stability'] = dataset['Requirement Stability'].map({'Never': 1, 'Seldom': 2, \n",
        "                                                                   'Sometimes':3, 'Often':4, \n",
        "                                                                   'Always':5})\n"
      ],
      "execution_count": 60,
      "outputs": []
    },
    {
      "cell_type": "code",
      "metadata": {
        "colab": {
          "base_uri": "https://localhost:8080/"
        },
        "id": "9f9cxV_iExFC",
        "outputId": "60781a66-042b-4d6b-e3c7-ee5f65a54b7a"
      },
      "source": [
        "dataset['Requirement Change Frequency'] = dataset['Requirement Change Frequency'].map({'0': 1, '1-2': 2, \n",
        "                                                                   '3-4':3, '5-6':4, \n",
        "                                                                   'More than 6':5})\n",
        "dataset['Requirement Change Frequency'].value_counts()"
      ],
      "execution_count": 61,
      "outputs": [
        {
          "output_type": "execute_result",
          "data": {
            "text/plain": [
              "2    16\n",
              "3    11\n",
              "5    10\n",
              "4     7\n",
              "Name: Requirement Change Frequency, dtype: int64"
            ]
          },
          "metadata": {},
          "execution_count": 61
        }
      ]
    },
    {
      "cell_type": "code",
      "metadata": {
        "colab": {
          "base_uri": "https://localhost:8080/"
        },
        "id": "OhvirT5BGSwT",
        "outputId": "4010409d-e7aa-4871-d70d-a5f089c44629"
      },
      "source": [
        "dataset['Design Change'] = dataset['Design Change'].map({'Strongly Disagree': 1, 'Disagree': 2, \n",
        "                                                                   'Neutral':3, 'Agree':4, \n",
        "                                                                   'Strongly Agree':5})\n",
        "dataset['Design Change'].value_counts()"
      ],
      "execution_count": 62,
      "outputs": [
        {
          "output_type": "execute_result",
          "data": {
            "text/plain": [
              "4    23\n",
              "3    10\n",
              "5     7\n",
              "2     4\n",
              "Name: Design Change, dtype: int64"
            ]
          },
          "metadata": {},
          "execution_count": 62
        }
      ]
    },
    {
      "cell_type": "code",
      "metadata": {
        "colab": {
          "base_uri": "https://localhost:8080/"
        },
        "id": "u5Ql5RjzGteV",
        "outputId": "51a90aab-0b6a-4fda-aa79-242947104b65"
      },
      "source": [
        "dataset['Adapting New Technology'] = dataset['Adapting New Technology'].map({'Never': 1, 'Seldom': 2, \n",
        "                                                                   'Sometimes':3, 'Often':4, \n",
        "                                                                   'Always':5})\n",
        "dataset['Adapting New Technology'].value_counts()"
      ],
      "execution_count": 63,
      "outputs": [
        {
          "output_type": "execute_result",
          "data": {
            "text/plain": [
              "5    17\n",
              "4    11\n",
              "3    10\n",
              "2     5\n",
              "1     1\n",
              "Name: Adapting New Technology, dtype: int64"
            ]
          },
          "metadata": {},
          "execution_count": 63
        }
      ]
    },
    {
      "cell_type": "code",
      "metadata": {
        "colab": {
          "base_uri": "https://localhost:8080/"
        },
        "id": "b3__YKpnG7y2",
        "outputId": "22e0d3ec-44d0-4c94-9026-cb945a1194de"
      },
      "source": [
        "dataset['Testability'] = dataset['Testability'].map({'Never': 1, 'Seldom': 2, \n",
        "                                                                   'Sometimes':3, 'Often':4, \n",
        "                                                                   'Always':5})\n",
        "dataset['Testability'].value_counts()"
      ],
      "execution_count": 64,
      "outputs": [
        {
          "output_type": "execute_result",
          "data": {
            "text/plain": [
              "3    21\n",
              "4    10\n",
              "2     8\n",
              "5     3\n",
              "1     2\n",
              "Name: Testability, dtype: int64"
            ]
          },
          "metadata": {},
          "execution_count": 64
        }
      ]
    },
    {
      "cell_type": "code",
      "metadata": {
        "colab": {
          "base_uri": "https://localhost:8080/"
        },
        "id": "WQF2wvehHCPP",
        "outputId": "f71ee382-fc7c-4431-c728-9644261c8ad6"
      },
      "source": [
        "dataset['Change Flexibility'] = dataset['Change Flexibility'].map({'Yes': 1, 'No': 0, })\n",
        "dataset['Change Flexibility'].value_counts()"
      ],
      "execution_count": 65,
      "outputs": [
        {
          "output_type": "execute_result",
          "data": {
            "text/plain": [
              "1    40\n",
              "0     4\n",
              "Name: Change Flexibility, dtype: int64"
            ]
          },
          "metadata": {},
          "execution_count": 65
        }
      ]
    },
    {
      "cell_type": "code",
      "metadata": {
        "colab": {
          "base_uri": "https://localhost:8080/"
        },
        "id": "DFgS6kb_HT-3",
        "outputId": "eb145f1f-075f-4e13-f238-9ff711234de0"
      },
      "source": [
        "dataset['Task Satisfaction'] = dataset['Task Satisfaction'].map({'Very Dissatisfied': 1, 'Dissatisfied': 2, \n",
        "                                                                   'Neutral':3, 'Very Satisfied':4, \n",
        "                                                                   'Satisfied':5})\n",
        "dataset['Task Satisfaction'].value_counts()"
      ],
      "execution_count": 66,
      "outputs": [
        {
          "output_type": "execute_result",
          "data": {
            "text/plain": [
              "5    35\n",
              "3     8\n",
              "4     1\n",
              "Name: Task Satisfaction, dtype: int64"
            ]
          },
          "metadata": {},
          "execution_count": 66
        }
      ]
    },
    {
      "cell_type": "code",
      "metadata": {
        "colab": {
          "base_uri": "https://localhost:8080/"
        },
        "id": "ySMSVu7XH6Hi",
        "outputId": "bfb1dfdd-e801-436c-e9e7-47d1464cf7d9"
      },
      "source": [
        "dataset['Fault Occurrence Frequency'] = dataset['Fault Occurrence Frequency'].map({'Never': 1, 'Seldom': 2, \n",
        "                                                                   'Sometimes':3, 'Often':4, \n",
        "                                                                   'Always':5})\n",
        "dataset['Fault Occurrence Frequency'].value_counts()"
      ],
      "execution_count": 67,
      "outputs": [
        {
          "output_type": "execute_result",
          "data": {
            "text/plain": [
              "3    27\n",
              "4    12\n",
              "5     3\n",
              "2     2\n",
              "Name: Fault Occurrence Frequency, dtype: int64"
            ]
          },
          "metadata": {},
          "execution_count": 67
        }
      ]
    },
    {
      "cell_type": "code",
      "metadata": {
        "colab": {
          "base_uri": "https://localhost:8080/"
        },
        "id": "rLex-j6CIPd5",
        "outputId": "2adfd00b-63d9-4359-b12e-0ec1236d1198"
      },
      "source": [
        "dataset['Budget Extension'] = dataset['Budget Extension'].map({'Never': 1, 'Seldom': 2, \n",
        "                                                                   'Sometimes':3, 'Often':4, \n",
        "                                                                   'Always':5})\n",
        "dataset['Budget Extension'].value_counts()"
      ],
      "execution_count": 68,
      "outputs": [
        {
          "output_type": "execute_result",
          "data": {
            "text/plain": [
              "3    20\n",
              "4    17\n",
              "5     6\n",
              "2     1\n",
              "Name: Budget Extension, dtype: int64"
            ]
          },
          "metadata": {},
          "execution_count": 68
        }
      ]
    },
    {
      "cell_type": "code",
      "metadata": {
        "colab": {
          "base_uri": "https://localhost:8080/"
        },
        "id": "DK8QlrFaIbij",
        "outputId": "f6aa75ea-74d8-46af-bc30-c3e69202b948"
      },
      "source": [
        "dataset['Efficiency'] = dataset['Efficiency'].map({'Strongly disagree': 1, 'Disagree': 2, \n",
        "                                                                   'Neutral':3, 'Agree':4, \n",
        "                                                                   'Strongly agree':5})\n",
        "dataset['Efficiency'].value_counts()\n"
      ],
      "execution_count": 69,
      "outputs": [
        {
          "output_type": "execute_result",
          "data": {
            "text/plain": [
              "3    14\n",
              "4    13\n",
              "2    11\n",
              "1     4\n",
              "5     2\n",
              "Name: Efficiency, dtype: int64"
            ]
          },
          "metadata": {},
          "execution_count": 69
        }
      ]
    },
    {
      "cell_type": "code",
      "metadata": {
        "colab": {
          "base_uri": "https://localhost:8080/"
        },
        "id": "nmr5WcdqIj41",
        "outputId": "5fbeb354-6599-43c8-91b7-32bffcd71be7"
      },
      "source": [
        "dataset['Reusability'] = dataset['Reusability'].map({'Never': 1, 'Seldom': 2, \n",
        "                                                                   'Sometimes':3, 'Often':4, \n",
        "                                                                   'Always':5})\n",
        "dataset['Reusability'].value_counts()"
      ],
      "execution_count": 70,
      "outputs": [
        {
          "output_type": "execute_result",
          "data": {
            "text/plain": [
              "3    20\n",
              "2    12\n",
              "4    10\n",
              "5     1\n",
              "1     1\n",
              "Name: Reusability, dtype: int64"
            ]
          },
          "metadata": {},
          "execution_count": 70
        }
      ]
    },
    {
      "cell_type": "code",
      "metadata": {
        "colab": {
          "base_uri": "https://localhost:8080/"
        },
        "id": "RlsX0dpNIwnV",
        "outputId": "a3ed3450-228e-4cc0-caa2-a6e636e52e6d"
      },
      "source": [
        "dataset['Portability'] = dataset['Portability'].map({'Never': 1, 'Seldom': 2, \n",
        "                                                                   'Sometimes':3, 'Often':4, \n",
        "                                                                   'Always':5})\n",
        "dataset['Portability'].value_counts()"
      ],
      "execution_count": 71,
      "outputs": [
        {
          "output_type": "execute_result",
          "data": {
            "text/plain": [
              "4    12\n",
              "3    10\n",
              "2    10\n",
              "1    10\n",
              "5     2\n",
              "Name: Portability, dtype: int64"
            ]
          },
          "metadata": {},
          "execution_count": 71
        }
      ]
    },
    {
      "cell_type": "code",
      "metadata": {
        "id": "FghIxiZzKL5z"
      },
      "source": [
        "dataset.to_csv(\"EncodedData.csv\")\n",
        "dataset.to_excel(\"EncodedData.xlsx\")"
      ],
      "execution_count": 72,
      "outputs": []
    }
  ]
}