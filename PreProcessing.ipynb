{
  "nbformat": 4,
  "nbformat_minor": 0,
  "metadata": {
    "colab": {
      "name": "PreProcessing.ipynb",
      "provenance": [],
      "toc_visible": true
    },
    "kernelspec": {
      "name": "python3",
      "display_name": "Python 3"
    },
    "language_info": {
      "name": "python"
    }
  },
  "cells": [
    {
      "cell_type": "code",
      "metadata": {
        "colab": {
          "base_uri": "https://localhost:8080/"
        },
        "id": "2caG63ojtVJF",
        "outputId": "70731a2d-ee94-4062-b40b-3b9cab965edc"
      },
      "source": [
        "import pandas as pd\n",
        "dataset = pd.read_excel(\"10A_survey_responses.xlsx\")\n",
        "print(dataset.shape)"
      ],
      "execution_count": 8,
      "outputs": [
        {
          "output_type": "stream",
          "name": "stdout",
          "text": [
            "(44, 19)\n"
          ]
        }
      ]
    },
    {
      "cell_type": "code",
      "metadata": {
        "id": "Yi9AoFFhvg2b"
      },
      "source": [
        "dataset.rename(columns = { \n",
        "                          'Designation ':'Designation',\n",
        "                          'Age ':'Age',\n",
        "                          '1. Have you faced early (first 30% time of project timeline) requirement change in your software project? ':'Requirement Stability',\n",
        "                          '2. How many times ( on average ) did you face requirement changing in a project timeline?':'Requirement Change Frequency',\n",
        "                          '3. You failed to meet the project deadline as _____':'Deadline Crossing Tendency',\n",
        "                          '4. How frequently did you failed to meet project deadline as an individual or a team?':'Deadline Crossing Frequency',\n",
        "                          '5. Needed to change the initial work plan.':'Design Change',\n",
        "                          '6. Needed to learn or adapt new technology.':'Adapting New Technology',\n",
        "                          '7. You ____ face difficulties during unit testing.':'Testability',\n",
        "                          '8. Did your development process (Agile, Waterfall etc.) support frequent requirement changing?':'Change Flexibility',\n",
        "                          '9. How much are you satisfied with your task accomplishments?':'Task Satisfaction',\n",
        "                          '10. How often did you find bug in your project during unit test?':'Fault Occurrence Frequency',\n",
        "                          '11. Software corrective maintenance cost refers to the costs due to modifying software to correct issues discovered after requirement change. How often do you think the cost increases?':'Budget Extension',\n",
        "                          '12. \"Overall performance falls due to early requirement change.\"':'Efficiency',\n",
        "                          '13. Have you faced difficulties to reuse the project\\'s modules due to early requirement change?':'Reusability',\n",
        "                          '14. Sometimes clients want such software that can be moved from one machine platform (Android, Web, iOS etc) to another or wants cross platform software. How often do you or your team had to make cross platform software due to early requirement change? ':'Portability',\n",
        "                            }, inplace = True) "
      ],
      "execution_count": 9,
      "outputs": []
    },
    {
      "cell_type": "code",
      "metadata": {
        "id": "GcsncHCC34TS"
      },
      "source": [
        "dataset.drop(columns=['Timestamp','Email'], inplace=True)"
      ],
      "execution_count": 10,
      "outputs": []
    },
    {
      "cell_type": "code",
      "metadata": {
        "colab": {
          "base_uri": "https://localhost:8080/"
        },
        "id": "WiWXzw5m2xFy",
        "outputId": "47c32c06-d46e-483c-fbcb-e58a5bfc8eab"
      },
      "source": [
        "list(dataset.columns.values)"
      ],
      "execution_count": 11,
      "outputs": [
        {
          "output_type": "execute_result",
          "data": {
            "text/plain": [
              "['Designation',\n",
              " 'Age',\n",
              " 'Gender',\n",
              " 'Requirement Stability',\n",
              " 'Requirement Change Frequency',\n",
              " 'Deadline Crossing Tendency',\n",
              " 'Deadline Crossing Frequency',\n",
              " 'Design Change',\n",
              " 'Adapting New Technology',\n",
              " 'Testability',\n",
              " 'Change Flexibility',\n",
              " 'Task Satisfaction',\n",
              " 'Fault Occurrence Frequency',\n",
              " 'Budget Extension',\n",
              " 'Efficiency',\n",
              " 'Reusability',\n",
              " 'Portability']"
            ]
          },
          "metadata": {},
          "execution_count": 11
        }
      ]
    },
    {
      "cell_type": "code",
      "metadata": {
        "colab": {
          "base_uri": "https://localhost:8080/"
        },
        "id": "sl95s6RZ3tZK",
        "outputId": "f8155239-2ba8-4894-973d-11896f2e73f6"
      },
      "source": [
        "dataset.shape\n"
      ],
      "execution_count": 12,
      "outputs": [
        {
          "output_type": "execute_result",
          "data": {
            "text/plain": [
              "(44, 17)"
            ]
          },
          "metadata": {},
          "execution_count": 12
        }
      ]
    },
    {
      "cell_type": "code",
      "metadata": {
        "id": "-gLxIB7qmH2l"
      },
      "source": [
        "df = pd.DataFrame(dataset)"
      ],
      "execution_count": 13,
      "outputs": []
    },
    {
      "cell_type": "code",
      "metadata": {
        "id": "doUT4mGm42mQ"
      },
      "source": [
        "dataset.to_csv(\"10A_survey_cleaned_data.csv\",\n",
        "                  index = None,\n",
        "                  header=True)"
      ],
      "execution_count": 14,
      "outputs": []
    },
    {
      "cell_type": "code",
      "metadata": {
        "id": "m6VlHdj8oTZ4"
      },
      "source": [
        ""
      ],
      "execution_count": null,
      "outputs": []
    }
  ]
}